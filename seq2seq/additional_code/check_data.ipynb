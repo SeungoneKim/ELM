{
 "cells": [
  {
   "cell_type": "code",
   "execution_count": 2,
   "metadata": {},
   "outputs": [],
   "source": [
    "from datasets import load_dataset, concatenate_datasets, DatasetDict\n",
    "from promptsource.templates import DatasetTemplates"
   ]
  },
  {
   "cell_type": "code",
   "execution_count": 141,
   "metadata": {},
   "outputs": [
    {
     "name": "stderr",
     "output_type": "stream",
     "text": [
      "WARNING:datasets.builder:Using custom data configuration default-15917115a10a64b3\n",
      "WARNING:datasets.builder:Reusing dataset csv (/home/joel_jang/.cache/huggingface/datasets/csv/default-15917115a10a64b3/0.0.0/2dc6629a9ff6b5697d82c25b73731dd440507a69cbce8b425db50b751e8fcfd0)\n"
     ]
    },
    {
     "name": "stdout",
     "output_type": "stream",
     "text": [
      "10257\n",
      "157\n",
      "Dataset({\n",
      "    features: ['label', 'title', 'content'],\n",
      "    num_rows: 20000\n",
      "})\n",
      "Dataset({\n",
      "    features: ['label', 'title', 'content'],\n",
      "    num_rows: 300\n",
      "})\n",
      "DatasetDict({\n",
      "    train: Dataset({\n",
      "        features: ['label', 'title', 'content'],\n",
      "        num_rows: 20000\n",
      "    })\n",
      "    validation: Dataset({\n",
      "        features: ['label', 'title', 'content'],\n",
      "        num_rows: 300\n",
      "    })\n",
      "})\n",
      "\n",
      "['Is this product review positive?\\nTitle: Stuning even for the non-gamer\\nReview: This sound track was beautiful! It paints the senery in your mind so well I would recomend it even to people who hate vid. game music! I have played the game Chrono Cross but out of all of the games I have ever played it has the best music! It backs away from crude keyboarding and takes a fresher step with grate guitars and soulful orchestras. It would impress anyone who cares to listen! ^_^\\nAnswer:', '']\n",
      "\n",
      "{'label': 2, 'title': 'The best soundtrack ever to anything.', 'content': \"I'm reading a lot of reviews saying that this is the best 'game soundtrack' and I figured that I'd write a review to disagree a bit. This in my opinino is Yasunori Mitsuda's ultimate masterpiece. The music is timeless and I'm been listening to it for years now and its beauty simply refuses to fade.The price tag on this is pretty staggering I must say, but if you are going to buy any cd for this much money, this is the only one that I feel would be worth every penny.\"}\n",
      "\n",
      "{'label': 2, 'title': 'Amazing!', 'content': 'This soundtrack is my favorite music of all time, hands down. The intense sadness of \"Prisoners of Fate\" (which means all the more if you\\'ve played the game) and the hope in \"A Distant Promise\" and \"Girl who Stole the Star\" have been an important inspiration to me personally throughout my teen years. The higher energy tracks like \"Chrono Cross ~ Time\\'s Scar~\", \"Time of the Dreamwatch\", and \"Chronomantique\" (indefinably remeniscent of Chrono Trigger) are all absolutely superb as well.This soundtrack is amazing music, probably the best of this composer\\'s work (I haven\\'t heard the Xenogears soundtrack, so I can\\'t say for sure), and even if you\\'ve never played the game, it would be worth twice the price to buy it.I wish I could give it 6 stars.'}\n",
      "\n",
      "{'label': 1, 'title': 'Far and away the most boring book in the series', 'content': \"I have every single Ring Of Fire book, and in general, the series is among my favorite sci-fi works. Except for this one. This book is not only almost unrelated to the rest of the series internally, it consists of a series of incredibly inane anecdotes about raising sheep and rabbits. Certainly the dullest sci-fi book I own. The ONLY reason to read this one is because it's referenced from later works, in particular 1635 - The Dreeson Incident. You'd think that a character in a sci-fi novel should have a story at least as interesting as a normal person in real life - and this book sure misses that goal. Unless you're really, really keen on reading short children's stories about anthropomorphic rams (the sheep kind), this book is sure to disappoint.Skip this one - you'll thank me later.\"}\n"
     ]
    }
   ],
   "source": [
    "train_data_files = {\"train\":\"./data/amazon_review_polarity_csv/train.csv\"}\n",
    "eval_data_files = {\"validation\":\"./data/amazon_review_polarity_csv/test.csv\"}\n",
    "\n",
    "amazon_polarity = load_dataset(\"csv\",data_files=train_data_files, script_version=\"master\",names=['label','title','content'])\n",
    "#amazon_polarity_eval = load_dataset(\"csv\",data_files=eval_data_files, script_version=\"master\",names=['label','title','input'])\n",
    "amazon_polarity_train = amazon_polarity['train'].select([i for i in range(0,20000)])\n",
    "amazon_polarity_eval = amazon_polarity['train'].select([len(amazon_polarity_train)-i for i in range(0,300)])\n",
    "prompt = DatasetTemplates('amazon_polarity')['Is_this_product_review_positive']\n",
    "num=0\n",
    "for item in amazon_polarity_train:\n",
    "    if item['label']==2:\n",
    "        num+=1\n",
    "print(num)\n",
    "num=0\n",
    "for item in amazon_polarity_eval:\n",
    "    if item['label']==2:\n",
    "        num+=1\n",
    "print(num)\n",
    "print(amazon_polarity_train)\n",
    "print(amazon_polarity_eval)\n",
    "amazon_polarity = DatasetDict()\n",
    "amazon_polarity['train'] = amazon_polarity_train\n",
    "amazon_polarity['validation'] = amazon_polarity_eval\n",
    "#amazon_polarity = concatenate_datasets([amazon_polarity_train,amazon_polarity_eval])\n",
    "print(amazon_polarity)\n",
    "print()\n",
    "print(prompt.apply(amazon_polarity['train'][0]))\n",
    "print()\n",
    "print(amazon_polarity['train'][1])\n",
    "print()\n",
    "print(amazon_polarity['train'][2])\n",
    "print()\n",
    "print(amazon_polarity['validation'][1])"
   ]
  },
  {
   "cell_type": "code",
   "execution_count": 3,
   "metadata": {},
   "outputs": [
    {
     "name": "stderr",
     "output_type": "stream",
     "text": [
      "Using custom data configuration default\n",
      "Reusing dataset app_reviews (/home/joel_jang/.cache/huggingface/datasets/app_reviews/default/0.0.0/20335b51b604b9bc04b7be253cd8445caa9ba93f15f39a4b0492b9e9102853de)\n"
     ]
    },
    {
     "name": "stdout",
     "output_type": "stream",
     "text": [
      "DatasetDict({\n",
      "    train: Dataset({\n",
      "        features: ['package_name', 'review', 'date', 'star'],\n",
      "        num_rows: 288065\n",
      "    })\n",
      "})\n",
      "DatasetDict({\n",
      "    train: Dataset({\n",
      "        features: ['package_name', 'review', 'date', 'star'],\n",
      "        num_rows: 20000\n",
      "    })\n",
      "    validation: Dataset({\n",
      "        features: ['package_name', 'review', 'date', 'star'],\n",
      "        num_rows: 300\n",
      "    })\n",
      "})\n",
      "['Generate a 4-star review (1 being lowest and 5 being highest) about an app with package com.mantz_it.rfanalyzer.', \"Great app! The new version now works on my Bravia Android TV which is great as it's right by my rooftop aerial cable. The scan feature would be useful...any ETA on when this will be available? Also the option to import a list of bookmarks e.g. from a simple properties file would be useful.\"]\n",
      "['Generate a 5-star review (1 being lowest and 5 being highest) about an app with package com.termux.api.', \"Works Nicely! I wish there were instructions that would appear within Termux once a person has installed this being that we have to look both in Playstore's READ area and in the referenced website for it  but still it does work eventually  and that's good!\"]\n",
      "{'date': 'October 12 2016', 'package_name': 'com.mantz_it.rfanalyzer', 'review': \"Great app! The new version now works on my Bravia Android TV which is great as it's right by my rooftop aerial cable. The scan feature would be useful...any ETA on when this will be available? Also the option to import a list of bookmarks e.g. from a simple properties file would be useful.\", 'star': 4}\n",
      "{'date': 'April 28 2016', 'package_name': 'com.termux.api', 'review': \"Works Nicely! I wish there were instructions that would appear within Termux once a person has installed this being that we have to look both in Playstore's READ area and in the referenced website for it  but still it does work eventually  and that's good!\", 'star': 5}\n"
     ]
    }
   ],
   "source": [
    "app_reviews = load_dataset('app_reviews')\n",
    "print(app_reviews)\n",
    "eval_app_reviews = app_reviews['train'].select([len(app_reviews['train'])-i for i in range(0,300)])\n",
    "train_app_reviews = app_reviews['train'].select([i for i in range(0,20000)])\n",
    "app_reviews = DatasetDict()\n",
    "prompt = DatasetTemplates('app_reviews')['generate_review']\n",
    "app_reviews['train'] = train_app_reviews\n",
    "app_reviews['validation'] = eval_app_reviews\n",
    "print(app_reviews)\n",
    "print(prompt.apply(app_reviews['train'][0]))\n",
    "print(prompt.apply(app_reviews['validation'][1]))\n",
    "print(app_reviews['train'][0])\n",
    "print(app_reviews['validation'][1])"
   ]
  },
  {
   "cell_type": "code",
   "execution_count": 133,
   "metadata": {},
   "outputs": [
    {
     "name": "stderr",
     "output_type": "stream",
     "text": [
      "WARNING:datasets.builder:Reusing dataset imdb (/home/joel_jang/.cache/huggingface/datasets/imdb/plain_text/1.0.0/4ea52f2e58a08dbc12c2bd52d0d92b30b88c00230b4522801b3636782f625c5b)\n"
     ]
    },
    {
     "name": "stdout",
     "output_type": "stream",
     "text": [
      "DatasetDict({\n",
      "    train: Dataset({\n",
      "        features: ['text', 'label'],\n",
      "        num_rows: 20000\n",
      "    })\n",
      "    validation: Dataset({\n",
      "        features: ['text', 'label'],\n",
      "        num_rows: 300\n",
      "    })\n",
      "})\n",
      "{'label': 1, 'text': 'Bromwell High is a cartoon comedy. It ran at the same time as some other programs about school life, such as \"Teachers\". My 35 years in the teaching profession lead me to believe that Bromwell High\\'s satire is much closer to reality than is \"Teachers\". The scramble to survive financially, the insightful students who can see right through their pathetic teachers\\' pomp, the pettiness of the whole situation, all remind me of the schools I knew and their students. When I saw the episode in which a student repeatedly tried to burn down the school, I immediately recalled ......... at .......... High. A classic line: INSPECTOR: I\\'m here to sack one of your teachers. STUDENT: Welcome to Bromwell High. I expect that many adults of my age think that Bromwell High is far fetched. What a pity that it isn\\'t!'}\n",
      "{'label': 1, 'text': \"I went and saw this movie last night after being coaxed to by a few friends of mine. I'll admit that I was reluctant to see it because from what I knew of Ashton Kutcher he was only able to do comedy. I was wrong. Kutcher played the character of Jake Fischer very well, and Kevin Costner played Ben Randall with such professionalism. The sign of a good movie is that it can toy with our emotions. This one did exactly that. The entire theater (which was sold out) was overcome by laughter during the first half of the movie, and were moved to tears during the second half. While exiting the theater I not only saw many women in tears, but many full grown men as well, trying desperately not to let anyone see them crying. This movie was great, and I suggest that you go see it before you judge.\"}\n",
      "['Bromwell High is a cartoon comedy. It ran at the same time as some other programs about school life, such as \"Teachers\". My 35 years in the teaching profession lead me to believe that Bromwell High\\'s satire is much closer to reality than is \"Teachers\". The scramble to survive financially, the insightful students who can see right through their pathetic teachers\\' pomp, the pettiness of the whole situation, all remind me of the schools I knew and their students. When I saw the episode in which a student repeatedly tried to burn down the school, I immediately recalled ......... at .......... High. A classic line: INSPECTOR: I\\'m here to sack one of your teachers. STUDENT: Welcome to Bromwell High. I expect that many adults of my age think that Bromwell High is far fetched. What a pity that it isn\\'t! This is definitely not a', 'negative review.']\n",
      "[\"I went and saw this movie last night after being coaxed to by a few friends of mine. I'll admit that I was reluctant to see it because from what I knew of Ashton Kutcher he was only able to do comedy. I was wrong. Kutcher played the character of Jake Fischer very well, and Kevin Costner played Ben Randall with such professionalism. The sign of a good movie is that it can toy with our emotions. This one did exactly that. The entire theater (which was sold out) was overcome by laughter during the first half of the movie, and were moved to tears during the second half. While exiting the theater I not only saw many women in tears, but many full grown men as well, trying desperately not to let anyone see them crying. This movie was great, and I suggest that you go see it before you judge. This is definitely not a\", 'negative review.']\n"
     ]
    }
   ],
   "source": [
    "imdb = load_dataset('imdb')\n",
    "imdb['validation'] = imdb['test']\n",
    "imdb_train = imdb['train'].select([i for i in range(0,20000)])\n",
    "imdb_validation = imdb['validation'].select([i for i in range(0,300)])\n",
    "imdb = DatasetDict()\n",
    "imdb['train'] = imdb_train\n",
    "imdb['validation'] = imdb_validation\n",
    "prompt = DatasetTemplates('imdb')['Negation template for positive and negative']\n",
    "print(imdb)\n",
    "print(imdb['train'][0])\n",
    "print(imdb['validation'][0])\n",
    "print(prompt.apply(imdb['train'][0]))\n",
    "print(prompt.apply(imdb['validation'][0]))"
   ]
  },
  {
   "cell_type": "code",
   "execution_count": 143,
   "metadata": {},
   "outputs": [
    {
     "name": "stderr",
     "output_type": "stream",
     "text": [
      "WARNING:datasets.builder:Using custom data configuration default\n",
      "WARNING:datasets.builder:Reusing dataset rotten_tomatoes_movie_review (/home/joel_jang/.cache/huggingface/datasets/rotten_tomatoes_movie_review/default/1.0.0/9c411f7ecd9f3045389de0d9ce984061a1056507703d2e3183b1ac1a90816e4d)\n"
     ]
    },
    {
     "name": "stdout",
     "output_type": "stream",
     "text": [
      "DatasetDict({\n",
      "    train: Dataset({\n",
      "        features: ['text', 'label'],\n",
      "        num_rows: 8530\n",
      "    })\n",
      "    validation: Dataset({\n",
      "        features: ['text', 'label'],\n",
      "        num_rows: 300\n",
      "    })\n",
      "})\n",
      "{'label': 1, 'text': 'the rock is destined to be the 21st century\\'s new \" conan \" and that he\\'s going to make a splash even greater than arnold schwarzenegger , jean-claud van damme or steven segal .'}\n",
      "{'label': 1, 'text': 'compassionately explores the seemingly irreconcilable situation between conservative christian parents and their estranged gay and lesbian children .'}\n",
      "['the rock is destined to be the 21st century\\'s new \" conan \" and that he\\'s going to make a splash even greater than arnold schwarzenegger , jean-claud van damme or steven segal . \\nIs this review positive or negative?', 'positive']\n",
      "['compassionately explores the seemingly irreconcilable situation between conservative christian parents and their estranged gay and lesbian children . \\nIs this review positive or negative?', 'positive']\n"
     ]
    }
   ],
   "source": [
    "rotten_tomatoes = load_dataset('rotten_tomatoes')\n",
    "rotten_tomatoes_train = rotten_tomatoes['train']\n",
    "rotten_tomatoes_eval = rotten_tomatoes['validation'].select([i for i in range(0,300)])\n",
    "rotten_tomatoes = DatasetDict()\n",
    "rotten_tomatoes['train'] = rotten_tomatoes_train\n",
    "rotten_tomatoes['validation'] = rotten_tomatoes_eval\n",
    "\n",
    "prompt = DatasetTemplates('rotten_tomatoes')['Sentiment with choices ']\n",
    "print(rotten_tomatoes)\n",
    "print(rotten_tomatoes['train'][0])\n",
    "print(rotten_tomatoes['validation'][0])\n",
    "print(prompt.apply(rotten_tomatoes['train'][0]))\n",
    "print(prompt.apply(rotten_tomatoes['validation'][0]))"
   ]
  },
  {
   "cell_type": "code",
   "execution_count": 144,
   "metadata": {},
   "outputs": [
    {
     "name": "stderr",
     "output_type": "stream",
     "text": [
      "WARNING:datasets.builder:Using custom data configuration default-4118ffc304dfde8d\n",
      "WARNING:datasets.builder:Reusing dataset csv (/home/joel_jang/.cache/huggingface/datasets/csv/default-4118ffc304dfde8d/0.0.0/2dc6629a9ff6b5697d82c25b73731dd440507a69cbce8b425db50b751e8fcfd0)\n",
      "WARNING:datasets.builder:Using custom data configuration default-f7e632423dae839a\n",
      "WARNING:datasets.builder:Reusing dataset csv (/home/joel_jang/.cache/huggingface/datasets/csv/default-f7e632423dae839a/0.0.0/2dc6629a9ff6b5697d82c25b73731dd440507a69cbce8b425db50b751e8fcfd0)\n"
     ]
    },
    {
     "name": "stdout",
     "output_type": "stream",
     "text": [
      "DatasetDict({\n",
      "    train: Dataset({\n",
      "        features: ['label', 'text'],\n",
      "        num_rows: 650000\n",
      "    })\n",
      "})\n",
      "DatasetDict({\n",
      "    validation: Dataset({\n",
      "        features: ['label', 'text'],\n",
      "        num_rows: 50000\n",
      "    })\n",
      "})\n",
      "3764\n",
      "4223\n",
      "4510\n",
      "4119\n",
      "3384\n",
      "56\n",
      "73\n",
      "59\n",
      "60\n",
      "52\n",
      "DatasetDict({\n",
      "    train: Dataset({\n",
      "        features: ['label', 'text'],\n",
      "        num_rows: 20000\n",
      "    })\n",
      "    validation: Dataset({\n",
      "        features: ['label', 'text'],\n",
      "        num_rows: 300\n",
      "    })\n",
      "})\n",
      "\n",
      "{'label': 5, 'text': \"dr. goldberg offers everything i look for in a general practitioner.  he's nice and easy to talk to without being patronizing; he's always on time in seeing his patients; he's affiliated with a top-notch hospital (nyu) which my parents have explained to me is very important in case something happens and you need surgery; and you can get referrals to see specialists without having to see him first.  really, what more do you need?  i'm sitting here trying to think of any complaints i have about him, but i'm really drawing a blank.\"}\n",
      "\n",
      "[\"Review text:\\ndr. goldberg offers everything i look for in a general practitioner.  he's nice and easy to talk to without being patronizing; he's always on time in seeing his patients; he's affiliated with a top-notch hospital (nyu) which my parents have explained to me is very important in case something happens and you need surgery; and you can get referrals to see specialists without having to see him first.  really, what more do you need?  i'm sitting here trying to think of any complaints i have about him, but i'm really drawing a blank.\\n\\nReview score (between 1 and 5):\", '']\n",
      "\n",
      "[\"Review text:\\nDon't waste your time.  We had two different people come to our house to give us estimates for a deck (one of them the OWNER).  Both times, we never heard from them.  Not a call, not the estimate, nothing.\\n\\nReview score (between 1 and 5):\", '2']\n"
     ]
    }
   ],
   "source": [
    "train_data_files = {\"train\":\"./data/yelp_review_full_csv/train.csv\"}\n",
    "eval_data_files = {\"validation\":\"./data/yelp_review_full_csv/test.csv\"}\n",
    "\n",
    "yelp_review_train = load_dataset(\"csv\",data_files=train_data_files, script_version=\"master\",names=['label','text'])\n",
    "yelp_review_eval = load_dataset(\"csv\",data_files=eval_data_files, script_version=\"master\",names=['label','text'])\n",
    "print(yelp_review_train)\n",
    "print(yelp_review_eval)\n",
    "yelp_review_train = yelp_review_train['train'].select([i for i in range(0,20000)])\n",
    "yelp_review_eval = yelp_review_eval['validation'].select([i for i in range(1,301)])\n",
    "yelp_review = DatasetDict()\n",
    "yelp_review['train'] = yelp_review_train\n",
    "yelp_review['validation'] = yelp_review_eval\n",
    "\n",
    "one = 0\n",
    "two = 0\n",
    "three =0\n",
    "four =0\n",
    "five =0\n",
    "for item in yelp_review['train']:\n",
    "    if item['label']==1:\n",
    "        one+=1\n",
    "    elif item['label']==2:\n",
    "        two+=1\n",
    "    elif item['label']==3:\n",
    "        three+=1\n",
    "    elif item['label']==4:\n",
    "        four+=1\n",
    "    elif item['label']==5:\n",
    "        five+=1\n",
    "print(one)\n",
    "print(two)\n",
    "print(three)\n",
    "print(four)\n",
    "print(five)\n",
    "\n",
    "one = 0\n",
    "two = 0\n",
    "three =0\n",
    "four =0\n",
    "five =0\n",
    "for item in yelp_review['validation']:\n",
    "    if item['label']==1:\n",
    "        one+=1\n",
    "    elif item['label']==2:\n",
    "        two+=1\n",
    "    elif item['label']==3:\n",
    "        three+=1\n",
    "    elif item['label']==4:\n",
    "        four+=1\n",
    "    elif item['label']==5:\n",
    "        five+=1\n",
    "print(one)\n",
    "print(two)\n",
    "print(three)\n",
    "print(four)\n",
    "print(five)\n",
    "\n",
    "prompt = DatasetTemplates('yelp_review_full')['format_score']\n",
    "\n",
    "print(yelp_review)\n",
    "print()\n",
    "print(yelp_review['train'][0])\n",
    "print()\n",
    "print(prompt.apply(yelp_review['train'][0]))\n",
    "print()\n",
    "print(prompt.apply(yelp_review['validation'][0]))"
   ]
  },
  {
   "cell_type": "code",
   "execution_count": 4,
   "metadata": {},
   "outputs": [
    {
     "name": "stderr",
     "output_type": "stream",
     "text": [
      "Reusing dataset wiki_hop (/home/joel_jang/.cache/huggingface/datasets/wiki_hop/original/1.0.0/eb7c77aeecd79f7ef05ad3d29d48b68998c2b51496a05fe4767fcd01785d8a16)\n"
     ]
    },
    {
     "name": "stdout",
     "output_type": "stream",
     "text": [
      "DatasetDict({\n",
      "    train: Dataset({\n",
      "        features: ['id', 'question', 'answer', 'candidates', 'supports', 'annotations'],\n",
      "        num_rows: 20000\n",
      "    })\n",
      "    validation: Dataset({\n",
      "        features: ['id', 'question', 'answer', 'candidates', 'supports', 'annotations'],\n",
      "        num_rows: 300\n",
      "    })\n",
      "})\n",
      "\n",
      "['1996 summer olympics', 'olympic games', 'sport']\n",
      "\n",
      "['Information:\\n\\n- The 2004 Summer Olympic Games, officially known as the Games of the XXVIII Olympiad and commonly known as Athens 2004, was a premier international multi-sport event held in Athens, Greece, from 13 to 29 August 2004 with the motto \"Welcome Home.\" 10,625 athletes competed, some 600 more than expected, accompanied by 5,501 team officials from 201 countries. There were 301 medal events in 28 different sports. Athens 2004 marked the first time since the 1996 Summer Olympics that all countries with a National Olympic Committee were in attendance. 2004 marked the return of the games to the city where they began.\\n\\n- The Pan-American or Pan American Games (also known colloquially as the Pan Am Games) is a major sporting event in the Americas featuring summer sports, in which thousands of athletes participate in a variety of competitions. The competition is held among athletes from nations of the Americas, every four years in the year before the Summer Olympic Games. The only Winter Pan American Games were held in 1990. The Pan American Sports Organization (PASO) is the governing body of the Pan American Games movement, whose structure and actions are defined by the Olympic Charter.\\n\\n- A National Olympic Committee (NOC) is a national constituent of the worldwide Olympic movement. Subject to the controls of the International Olympic Committee, NOCs are responsible for organizing their people\\'s participation in the Olympic Games. They may nominate cities within their respective areas as candidates for future Olympic Games. NOCs also promote the development of athletes and training of coaches and officials at a national level within their geographies.\\n\\n- Beach volleyball is a team sport played by two teams of two players on a sand court divided by a net. It has been an Olympic discipline since the 1996 Games.\\n\\n- A multi-sport event is an organized sports event, often held over multiple days, featuring competition in many different sports between organized teams of athletes from (mostly) nation states. The first major, modern, multi-sport event of international significance is the modern Olympic Games.\\n\\n- The 14th Pan American Games were held in Santo Domingo, Dominican Republic, from August 1 until August 17, 2003. The successful bid for the games was made in the mid-1990s, when Dominican Republic had one of the highest growth rates in Latin America.\\n\\n- The 1996 Summer Olympics, known officially as the Games of the XXVI Olympiad and unofficially as the Centennial Olympic Games, was a major international multi-sport event that took place in Atlanta, Georgia, United States, from July 19 to August 4, 1996. A record 197 nations, all current IOC member nations, took part in the Games, comprising 10,318 athletes. The International Olympic Committee voted in 1986 to separate the Summer and Winter Games, which had been held in the same year since 1924, and place them in alternating even-numbered years, beginning in 1994. The 1996 Summer Games were the first to be staged in a different year from the Winter Games. Atlanta became the fifth American city to host the Olympic Games and the third to hold a Summer Olympic Games. \\n\\n- Juan Miguel Rossell Milanes ( born December 28 , 1969 in Jiguani , Granma ) is a beach volleyball player from Cuba , who won the gold medal in the men \\'s beach team competition at the 2003 Pan American Games in Santo Domingo , Dominican Republic , partnering Francisco Alvarez . He represented his native country at the 1996 and the 2004 Summer Olympics .\\n\\n\\n\\nWhat object entity has the relation of \\'participant of\\' with the subject \\'juan rossell\\'? \\n\\nChoices:\\n- 1996 summer olympics\\n - olympic games\\n - sport', '1996 summer olympics']\n",
      "\n",
      "['Information:\\n\\n- The 2004 Summer Olympic Games, officially known as the Games of the XXVIII Olympiad and commonly known as Athens 2004, was a premier international multi-sport event held in Athens, Greece, from 13 to 29 August 2004 with the motto \"Welcome Home.\" 10,625 athletes competed, some 600 more than expected, accompanied by 5,501 team officials from 201 countries. There were 301 medal events in 28 different sports. Athens 2004 marked the first time since the 1996 Summer Olympics that all countries with a National Olympic Committee were in attendance. 2004 marked the return of the games to the city where they began.\\n\\n- The Pan-American or Pan American Games (also known colloquially as the Pan Am Games) is a major sporting event in the Americas featuring summer sports, in which thousands of athletes participate in a variety of competitions. The competition is held among athletes from nations of the Americas, every four years in the year before the Summer Olympic Games. The only Winter Pan American Games were held in 1990. The Pan American Sports Organization (PASO) is the governing body of the Pan American Games movement, whose structure and actions are defined by the Olympic Charter.\\n\\n- A National Olympic Committee (NOC) is a national constituent of the worldwide Olympic movement. Subject to the controls of the International Olympic Committee, NOCs are responsible for organizing their people\\'s participation in the Olympic Games. They may nominate cities within their respective areas as candidates for future Olympic Games. NOCs also promote the development of athletes and training of coaches and officials at a national level within their geographies.\\n\\n- Beach volleyball is a team sport played by two teams of two players on a sand court divided by a net. It has been an Olympic discipline since the 1996 Games.\\n\\n- A multi-sport event is an organized sports event, often held over multiple days, featuring competition in many different sports between organized teams of athletes from (mostly) nation states. The first major, modern, multi-sport event of international significance is the modern Olympic Games.\\n\\n- The 14th Pan American Games were held in Santo Domingo, Dominican Republic, from August 1 until August 17, 2003. The successful bid for the games was made in the mid-1990s, when Dominican Republic had one of the highest growth rates in Latin America.\\n\\n- The 1996 Summer Olympics, known officially as the Games of the XXVI Olympiad and unofficially as the Centennial Olympic Games, was a major international multi-sport event that took place in Atlanta, Georgia, United States, from July 19 to August 4, 1996. A record 197 nations, all current IOC member nations, took part in the Games, comprising 10,318 athletes. The International Olympic Committee voted in 1986 to separate the Summer and Winter Games, which had been held in the same year since 1924, and place them in alternating even-numbered years, beginning in 1994. The 1996 Summer Games were the first to be staged in a different year from the Winter Games. Atlanta became the fifth American city to host the Olympic Games and the third to hold a Summer Olympic Games. \\n\\n- Juan Miguel Rossell Milanes ( born December 28 , 1969 in Jiguani , Granma ) is a beach volleyball player from Cuba , who won the gold medal in the men \\'s beach team competition at the 2003 Pan American Games in Santo Domingo , Dominican Republic , partnering Francisco Alvarez . He represented his native country at the 1996 and the 2004 Summer Olympics .\\n\\n\\n\\nWhat is the relationship between \\'juan rossell\\' and \\'1996 summer olympics\\'?', 'participant of']\n",
      "\n",
      "['Information:\\n\\n- The 2004 Summer Olympic Games, officially known as the Games of the XXVIII Olympiad and commonly known as Athens 2004, was a premier international multi-sport event held in Athens, Greece, from 13 to 29 August 2004 with the motto \"Welcome Home.\" 10,625 athletes competed, some 600 more than expected, accompanied by 5,501 team officials from 201 countries. There were 301 medal events in 28 different sports. Athens 2004 marked the first time since the 1996 Summer Olympics that all countries with a National Olympic Committee were in attendance. 2004 marked the return of the games to the city where they began.\\n\\n- The Pan-American or Pan American Games (also known colloquially as the Pan Am Games) is a major sporting event in the Americas featuring summer sports, in which thousands of athletes participate in a variety of competitions. The competition is held among athletes from nations of the Americas, every four years in the year before the Summer Olympic Games. The only Winter Pan American Games were held in 1990. The Pan American Sports Organization (PASO) is the governing body of the Pan American Games movement, whose structure and actions are defined by the Olympic Charter.\\n\\n- A National Olympic Committee (NOC) is a national constituent of the worldwide Olympic movement. Subject to the controls of the International Olympic Committee, NOCs are responsible for organizing their people\\'s participation in the Olympic Games. They may nominate cities within their respective areas as candidates for future Olympic Games. NOCs also promote the development of athletes and training of coaches and officials at a national level within their geographies.\\n\\n- Beach volleyball is a team sport played by two teams of two players on a sand court divided by a net. It has been an Olympic discipline since the 1996 Games.\\n\\n- A multi-sport event is an organized sports event, often held over multiple days, featuring competition in many different sports between organized teams of athletes from (mostly) nation states. The first major, modern, multi-sport event of international significance is the modern Olympic Games.\\n\\n- The 14th Pan American Games were held in Santo Domingo, Dominican Republic, from August 1 until August 17, 2003. The successful bid for the games was made in the mid-1990s, when Dominican Republic had one of the highest growth rates in Latin America.\\n\\n- The 1996 Summer Olympics, known officially as the Games of the XXVI Olympiad and unofficially as the Centennial Olympic Games, was a major international multi-sport event that took place in Atlanta, Georgia, United States, from July 19 to August 4, 1996. A record 197 nations, all current IOC member nations, took part in the Games, comprising 10,318 athletes. The International Olympic Committee voted in 1986 to separate the Summer and Winter Games, which had been held in the same year since 1924, and place them in alternating even-numbered years, beginning in 1994. The 1996 Summer Games were the first to be staged in a different year from the Winter Games. Atlanta became the fifth American city to host the Olympic Games and the third to hold a Summer Olympic Games. \\n\\n- Juan Miguel Rossell Milanes ( born December 28 , 1969 in Jiguani , Granma ) is a beach volleyball player from Cuba , who won the gold medal in the men \\'s beach team competition at the 2003 Pan American Games in Santo Domingo , Dominican Republic , partnering Francisco Alvarez . He represented his native country at the 1996 and the 2004 Summer Olympics .\\n\\n\\n\\nWhat entity does \\'juan rossell\\' has the relation \\'participant of\\' with?', '1996 summer olympics']\n",
      "\n",
      "['Information:\\n\\n- The 2004 Summer Olympic Games, officially known as the Games of the XXVIII Olympiad and commonly known as Athens 2004, was a premier international multi-sport event held in Athens, Greece, from 13 to 29 August 2004 with the motto \"Welcome Home.\" 10,625 athletes competed, some 600 more than expected, accompanied by 5,501 team officials from 201 countries. There were 301 medal events in 28 different sports. Athens 2004 marked the first time since the 1996 Summer Olympics that all countries with a National Olympic Committee were in attendance. 2004 marked the return of the games to the city where they began.\\n\\n- The Pan-American or Pan American Games (also known colloquially as the Pan Am Games) is a major sporting event in the Americas featuring summer sports, in which thousands of athletes participate in a variety of competitions. The competition is held among athletes from nations of the Americas, every four years in the year before the Summer Olympic Games. The only Winter Pan American Games were held in 1990. The Pan American Sports Organization (PASO) is the governing body of the Pan American Games movement, whose structure and actions are defined by the Olympic Charter.\\n\\n- A National Olympic Committee (NOC) is a national constituent of the worldwide Olympic movement. Subject to the controls of the International Olympic Committee, NOCs are responsible for organizing their people\\'s participation in the Olympic Games. They may nominate cities within their respective areas as candidates for future Olympic Games. NOCs also promote the development of athletes and training of coaches and officials at a national level within their geographies.\\n\\n- Beach volleyball is a team sport played by two teams of two players on a sand court divided by a net. It has been an Olympic discipline since the 1996 Games.\\n\\n- A multi-sport event is an organized sports event, often held over multiple days, featuring competition in many different sports between organized teams of athletes from (mostly) nation states. The first major, modern, multi-sport event of international significance is the modern Olympic Games.\\n\\n- The 14th Pan American Games were held in Santo Domingo, Dominican Republic, from August 1 until August 17, 2003. The successful bid for the games was made in the mid-1990s, when Dominican Republic had one of the highest growth rates in Latin America.\\n\\n- The 1996 Summer Olympics, known officially as the Games of the XXVI Olympiad and unofficially as the Centennial Olympic Games, was a major international multi-sport event that took place in Atlanta, Georgia, United States, from July 19 to August 4, 1996. A record 197 nations, all current IOC member nations, took part in the Games, comprising 10,318 athletes. The International Olympic Committee voted in 1986 to separate the Summer and Winter Games, which had been held in the same year since 1924, and place them in alternating even-numbered years, beginning in 1994. The 1996 Summer Games were the first to be staged in a different year from the Winter Games. Atlanta became the fifth American city to host the Olympic Games and the third to hold a Summer Olympic Games. \\n\\n- Juan Miguel Rossell Milanes ( born December 28 , 1969 in Jiguani , Granma ) is a beach volleyball player from Cuba , who won the gold medal in the men \\'s beach team competition at the 2003 Pan American Games in Santo Domingo , Dominican Republic , partnering Francisco Alvarez . He represented his native country at the 1996 and the 2004 Summer Olympics .\\n\\n\\n\\nGiven the paragraphs above, decide what entity has the relation \\'participant of\\' with \\'1996 summer olympics\\'.', 'juan rossell']\n",
      "\n",
      "['Information:\\n\\n- The 2004 Summer Olympic Games, officially known as the Games of the XXVIII Olympiad and commonly known as Athens 2004, was a premier international multi-sport event held in Athens, Greece, from 13 to 29 August 2004 with the motto \"Welcome Home.\" 10,625 athletes competed, some 600 more than expected, accompanied by 5,501 team officials from 201 countries. There were 301 medal events in 28 different sports. Athens 2004 marked the first time since the 1996 Summer Olympics that all countries with a National Olympic Committee were in attendance. 2004 marked the return of the games to the city where they began.\\n\\n- The Pan-American or Pan American Games (also known colloquially as the Pan Am Games) is a major sporting event in the Americas featuring summer sports, in which thousands of athletes participate in a variety of competitions. The competition is held among athletes from nations of the Americas, every four years in the year before the Summer Olympic Games. The only Winter Pan American Games were held in 1990. The Pan American Sports Organization (PASO) is the governing body of the Pan American Games movement, whose structure and actions are defined by the Olympic Charter.\\n\\n- A National Olympic Committee (NOC) is a national constituent of the worldwide Olympic movement. Subject to the controls of the International Olympic Committee, NOCs are responsible for organizing their people\\'s participation in the Olympic Games. They may nominate cities within their respective areas as candidates for future Olympic Games. NOCs also promote the development of athletes and training of coaches and officials at a national level within their geographies.\\n\\n- Beach volleyball is a team sport played by two teams of two players on a sand court divided by a net. It has been an Olympic discipline since the 1996 Games.\\n\\n- A multi-sport event is an organized sports event, often held over multiple days, featuring competition in many different sports between organized teams of athletes from (mostly) nation states. The first major, modern, multi-sport event of international significance is the modern Olympic Games.\\n\\n- The 14th Pan American Games were held in Santo Domingo, Dominican Republic, from August 1 until August 17, 2003. The successful bid for the games was made in the mid-1990s, when Dominican Republic had one of the highest growth rates in Latin America.\\n\\n- The 1996 Summer Olympics, known officially as the Games of the XXVI Olympiad and unofficially as the Centennial Olympic Games, was a major international multi-sport event that took place in Atlanta, Georgia, United States, from July 19 to August 4, 1996. A record 197 nations, all current IOC member nations, took part in the Games, comprising 10,318 athletes. The International Olympic Committee voted in 1986 to separate the Summer and Winter Games, which had been held in the same year since 1924, and place them in alternating even-numbered years, beginning in 1994. The 1996 Summer Games were the first to be staged in a different year from the Winter Games. Atlanta became the fifth American city to host the Olympic Games and the third to hold a Summer Olympic Games. \\n\\n- Juan Miguel Rossell Milanes ( born December 28 , 1969 in Jiguani , Granma ) is a beach volleyball player from Cuba , who won the gold medal in the men \\'s beach team competition at the 2003 Pan American Games in Santo Domingo , Dominican Republic , partnering Francisco Alvarez . He represented his native country at the 1996 and the 2004 Summer Olympics .\\n\\n\\n\\nGiven the information above, choose from the list below the object entity that exhibits the relation \\'participant of\\' with the subject \\'juan rossell\\'.\\n\\nChoices:\\n- 1996 summer olympics\\n - olympic games\\n - sport', '1996 summer olympics']\n",
      "\n",
      "['Information:\\n\\n- The 2004 Summer Olympic Games, officially known as the Games of the XXVIII Olympiad and commonly known as Athens 2004, was a premier international multi-sport event held in Athens, Greece, from 13 to 29 August 2004 with the motto \"Welcome Home.\" 10,625 athletes competed, some 600 more than expected, accompanied by 5,501 team officials from 201 countries. There were 301 medal events in 28 different sports. Athens 2004 marked the first time since the 1996 Summer Olympics that all countries with a National Olympic Committee were in attendance. 2004 marked the return of the games to the city where they began.\\n\\n- The Pan-American or Pan American Games (also known colloquially as the Pan Am Games) is a major sporting event in the Americas featuring summer sports, in which thousands of athletes participate in a variety of competitions. The competition is held among athletes from nations of the Americas, every four years in the year before the Summer Olympic Games. The only Winter Pan American Games were held in 1990. The Pan American Sports Organization (PASO) is the governing body of the Pan American Games movement, whose structure and actions are defined by the Olympic Charter.\\n\\n- A National Olympic Committee (NOC) is a national constituent of the worldwide Olympic movement. Subject to the controls of the International Olympic Committee, NOCs are responsible for organizing their people\\'s participation in the Olympic Games. They may nominate cities within their respective areas as candidates for future Olympic Games. NOCs also promote the development of athletes and training of coaches and officials at a national level within their geographies.\\n\\n- Beach volleyball is a team sport played by two teams of two players on a sand court divided by a net. It has been an Olympic discipline since the 1996 Games.\\n\\n- A multi-sport event is an organized sports event, often held over multiple days, featuring competition in many different sports between organized teams of athletes from (mostly) nation states. The first major, modern, multi-sport event of international significance is the modern Olympic Games.\\n\\n- The 14th Pan American Games were held in Santo Domingo, Dominican Republic, from August 1 until August 17, 2003. The successful bid for the games was made in the mid-1990s, when Dominican Republic had one of the highest growth rates in Latin America.\\n\\n- The 1996 Summer Olympics, known officially as the Games of the XXVI Olympiad and unofficially as the Centennial Olympic Games, was a major international multi-sport event that took place in Atlanta, Georgia, United States, from July 19 to August 4, 1996. A record 197 nations, all current IOC member nations, took part in the Games, comprising 10,318 athletes. The International Olympic Committee voted in 1986 to separate the Summer and Winter Games, which had been held in the same year since 1924, and place them in alternating even-numbered years, beginning in 1994. The 1996 Summer Games were the first to be staged in a different year from the Winter Games. Atlanta became the fifth American city to host the Olympic Games and the third to hold a Summer Olympic Games. \\n\\n- Juan Miguel Rossell Milanes ( born December 28 , 1969 in Jiguani , Granma ) is a beach volleyball player from Cuba , who won the gold medal in the men \\'s beach team competition at the 2003 Pan American Games in Santo Domingo , Dominican Republic , partnering Francisco Alvarez . He represented his native country at the 1996 and the 2004 Summer Olympics .\\n\\n\\n\\nAfter reading the paragraphs above, we are interested in knowing the entity with which \\'juan rossell\\' exhibits the relationship of \\'participant of\\'. Find the answer from the choices below.\\n\\nChoices:\\n- 1996 summer olympics\\n - olympic games\\n - sport', '1996 summer olympics']\n",
      "\n",
      "['Information:\\n\\n- The 2004 Summer Olympic Games, officially known as the Games of the XXVIII Olympiad and commonly known as Athens 2004, was a premier international multi-sport event held in Athens, Greece, from 13 to 29 August 2004 with the motto \"Welcome Home.\" 10,625 athletes competed, some 600 more than expected, accompanied by 5,501 team officials from 201 countries. There were 301 medal events in 28 different sports. Athens 2004 marked the first time since the 1996 Summer Olympics that all countries with a National Olympic Committee were in attendance. 2004 marked the return of the games to the city where they began.\\n\\n- The Pan-American or Pan American Games (also known colloquially as the Pan Am Games) is a major sporting event in the Americas featuring summer sports, in which thousands of athletes participate in a variety of competitions. The competition is held among athletes from nations of the Americas, every four years in the year before the Summer Olympic Games. The only Winter Pan American Games were held in 1990. The Pan American Sports Organization (PASO) is the governing body of the Pan American Games movement, whose structure and actions are defined by the Olympic Charter.\\n\\n- A National Olympic Committee (NOC) is a national constituent of the worldwide Olympic movement. Subject to the controls of the International Olympic Committee, NOCs are responsible for organizing their people\\'s participation in the Olympic Games. They may nominate cities within their respective areas as candidates for future Olympic Games. NOCs also promote the development of athletes and training of coaches and officials at a national level within their geographies.\\n\\n- Beach volleyball is a team sport played by two teams of two players on a sand court divided by a net. It has been an Olympic discipline since the 1996 Games.\\n\\n- A multi-sport event is an organized sports event, often held over multiple days, featuring competition in many different sports between organized teams of athletes from (mostly) nation states. The first major, modern, multi-sport event of international significance is the modern Olympic Games.\\n\\n- The 14th Pan American Games were held in Santo Domingo, Dominican Republic, from August 1 until August 17, 2003. The successful bid for the games was made in the mid-1990s, when Dominican Republic had one of the highest growth rates in Latin America.\\n\\n- The 1996 Summer Olympics, known officially as the Games of the XXVI Olympiad and unofficially as the Centennial Olympic Games, was a major international multi-sport event that took place in Atlanta, Georgia, United States, from July 19 to August 4, 1996. A record 197 nations, all current IOC member nations, took part in the Games, comprising 10,318 athletes. The International Olympic Committee voted in 1986 to separate the Summer and Winter Games, which had been held in the same year since 1924, and place them in alternating even-numbered years, beginning in 1994. The 1996 Summer Games were the first to be staged in a different year from the Winter Games. Atlanta became the fifth American city to host the Olympic Games and the third to hold a Summer Olympic Games. \\n\\n- Juan Miguel Rossell Milanes ( born December 28 , 1969 in Jiguani , Granma ) is a beach volleyball player from Cuba , who won the gold medal in the men \\'s beach team competition at the 2003 Pan American Games in Santo Domingo , Dominican Republic , partnering Francisco Alvarez . He represented his native country at the 1996 and the 2004 Summer Olympics .\\n\\n\\n\\nGiven the information, choose the subject and object entities that have the relation of \\'participant of\\'.', 'juan rossell , 1996 summer olympics']\n",
      "\n",
      "['Information:\\n\\n- The 2004 Summer Olympic Games, officially known as the Games of the XXVIII Olympiad and commonly known as Athens 2004, was a premier international multi-sport event held in Athens, Greece, from 13 to 29 August 2004 with the motto \"Welcome Home.\" 10,625 athletes competed, some 600 more than expected, accompanied by 5,501 team officials from 201 countries. There were 301 medal events in 28 different sports. Athens 2004 marked the first time since the 1996 Summer Olympics that all countries with a National Olympic Committee were in attendance. 2004 marked the return of the games to the city where they began.\\n\\n- The Pan-American or Pan American Games (also known colloquially as the Pan Am Games) is a major sporting event in the Americas featuring summer sports, in which thousands of athletes participate in a variety of competitions. The competition is held among athletes from nations of the Americas, every four years in the year before the Summer Olympic Games. The only Winter Pan American Games were held in 1990. The Pan American Sports Organization (PASO) is the governing body of the Pan American Games movement, whose structure and actions are defined by the Olympic Charter.\\n\\n- A National Olympic Committee (NOC) is a national constituent of the worldwide Olympic movement. Subject to the controls of the International Olympic Committee, NOCs are responsible for organizing their people\\'s participation in the Olympic Games. They may nominate cities within their respective areas as candidates for future Olympic Games. NOCs also promote the development of athletes and training of coaches and officials at a national level within their geographies.\\n\\n- Beach volleyball is a team sport played by two teams of two players on a sand court divided by a net. It has been an Olympic discipline since the 1996 Games.\\n\\n- A multi-sport event is an organized sports event, often held over multiple days, featuring competition in many different sports between organized teams of athletes from (mostly) nation states. The first major, modern, multi-sport event of international significance is the modern Olympic Games.\\n\\n- The 14th Pan American Games were held in Santo Domingo, Dominican Republic, from August 1 until August 17, 2003. The successful bid for the games was made in the mid-1990s, when Dominican Republic had one of the highest growth rates in Latin America.\\n\\n- The 1996 Summer Olympics, known officially as the Games of the XXVI Olympiad and unofficially as the Centennial Olympic Games, was a major international multi-sport event that took place in Atlanta, Georgia, United States, from July 19 to August 4, 1996. A record 197 nations, all current IOC member nations, took part in the Games, comprising 10,318 athletes. The International Olympic Committee voted in 1986 to separate the Summer and Winter Games, which had been held in the same year since 1924, and place them in alternating even-numbered years, beginning in 1994. The 1996 Summer Games were the first to be staged in a different year from the Winter Games. Atlanta became the fifth American city to host the Olympic Games and the third to hold a Summer Olympic Games. \\n\\n- Juan Miguel Rossell Milanes ( born December 28 , 1969 in Jiguani , Granma ) is a beach volleyball player from Cuba , who won the gold medal in the men \\'s beach team competition at the 2003 Pan American Games in Santo Domingo , Dominican Republic , partnering Francisco Alvarez . He represented his native country at the 1996 and the 2004 Summer Olympics .\\n\\n\\n\\nAfter reading the paragraphs above, choose the best answer for the entity that related to \\'juan rossell\\' with the relationship of \\'participant of\\'.\\n\\nChoices:\\n- 1996 summer olympics\\n - olympic games\\n - sport', '1996 summer olympics']\n",
      "\n",
      "['Information:\\n\\n- The 2004 Summer Olympic Games, officially known as the Games of the XXVIII Olympiad and commonly known as Athens 2004, was a premier international multi-sport event held in Athens, Greece, from 13 to 29 August 2004 with the motto \"Welcome Home.\" 10,625 athletes competed, some 600 more than expected, accompanied by 5,501 team officials from 201 countries. There were 301 medal events in 28 different sports. Athens 2004 marked the first time since the 1996 Summer Olympics that all countries with a National Olympic Committee were in attendance. 2004 marked the return of the games to the city where they began.\\n\\n- The Pan-American or Pan American Games (also known colloquially as the Pan Am Games) is a major sporting event in the Americas featuring summer sports, in which thousands of athletes participate in a variety of competitions. The competition is held among athletes from nations of the Americas, every four years in the year before the Summer Olympic Games. The only Winter Pan American Games were held in 1990. The Pan American Sports Organization (PASO) is the governing body of the Pan American Games movement, whose structure and actions are defined by the Olympic Charter.\\n\\n- A National Olympic Committee (NOC) is a national constituent of the worldwide Olympic movement. Subject to the controls of the International Olympic Committee, NOCs are responsible for organizing their people\\'s participation in the Olympic Games. They may nominate cities within their respective areas as candidates for future Olympic Games. NOCs also promote the development of athletes and training of coaches and officials at a national level within their geographies.\\n\\n- Beach volleyball is a team sport played by two teams of two players on a sand court divided by a net. It has been an Olympic discipline since the 1996 Games.\\n\\n- A multi-sport event is an organized sports event, often held over multiple days, featuring competition in many different sports between organized teams of athletes from (mostly) nation states. The first major, modern, multi-sport event of international significance is the modern Olympic Games.\\n\\n- The 14th Pan American Games were held in Santo Domingo, Dominican Republic, from August 1 until August 17, 2003. The successful bid for the games was made in the mid-1990s, when Dominican Republic had one of the highest growth rates in Latin America.\\n\\n- The 1996 Summer Olympics, known officially as the Games of the XXVI Olympiad and unofficially as the Centennial Olympic Games, was a major international multi-sport event that took place in Atlanta, Georgia, United States, from July 19 to August 4, 1996. A record 197 nations, all current IOC member nations, took part in the Games, comprising 10,318 athletes. The International Olympic Committee voted in 1986 to separate the Summer and Winter Games, which had been held in the same year since 1924, and place them in alternating even-numbered years, beginning in 1994. The 1996 Summer Games were the first to be staged in a different year from the Winter Games. Atlanta became the fifth American city to host the Olympic Games and the third to hold a Summer Olympic Games. \\n\\n- Juan Miguel Rossell Milanes ( born December 28 , 1969 in Jiguani , Granma ) is a beach volleyball player from Cuba , who won the gold medal in the men \\'s beach team competition at the 2003 Pan American Games in Santo Domingo , Dominican Republic , partnering Francisco Alvarez . He represented his native country at the 1996 and the 2004 Summer Olympics .\\n\\n\\n\\n\\'juan rossell\\' is related to which object entity through the relation of \\'participant of\\'?\\n\\nChoices:\\n- 1996 summer olympics\\n - olympic games\\n - sport', '1996 summer olympics']\n"
     ]
    },
    {
     "ename": "",
     "evalue": "",
     "output_type": "error",
     "traceback": [
      "현재 셀 또는 이전 셀에서 코드를 실행하는 동안 Kernel이 충돌했습니다. 셀의 코드를 검토하여 오류의 가능한 원인을 식별하세요. 자세한 내용을 보려면 <a href='https://aka.ms/vscodeJupyterKernelCrash'> 여기 </a> 를 클릭하세요. 자세한 내용은 Jupyter <a href='command:jupyter.viewOutput'>로그</a>를 참조하세요."
     ]
    }
   ],
   "source": [
    "wiki_hop = load_dataset('wiki_hop','original')\n",
    "prompt1 = DatasetTemplates('wiki_hop/original')['choose_best_object_interrogative_1']\n",
    "prompt2 = DatasetTemplates('wiki_hop/original')['explain_relation']\n",
    "prompt3 = DatasetTemplates('wiki_hop/original')['generate_object']\n",
    "prompt4 = DatasetTemplates('wiki_hop/original')['generate_subject']\n",
    "prompt5 = DatasetTemplates('wiki_hop/original')['choose_best_object_affirmative_1']\n",
    "prompt6 = DatasetTemplates('wiki_hop/original')['choose_best_object_affirmative_3']\n",
    "prompt7 = DatasetTemplates('wiki_hop/original')['generate_subject_and_object']\n",
    "prompt8 = DatasetTemplates('wiki_hop/original')['choose_best_object_affirmative_2']\n",
    "prompt9 = DatasetTemplates('wiki_hop/original')['choose_best_object_interrogative_2']\n",
    "\n",
    "wiki_hop_train = wiki_hop['train'].select([i for i in range(0,20000)])\n",
    "wiki_hop_eval = wiki_hop['validation'].select([i for i in range(0,300)])\n",
    "wiki_hop = DatasetDict()\n",
    "wiki_hop['train'] = wiki_hop_train\n",
    "wiki_hop['validation'] = wiki_hop_eval\n",
    "print(wiki_hop)\n",
    "print()\n",
    "print(wiki_hop['train'][0]['candidates'])\n",
    "print()\n",
    "print(prompt1.apply(wiki_hop['train'][0]))\n",
    "print()\n",
    "print(prompt2.apply(wiki_hop['train'][0]))\n",
    "print()\n",
    "print(prompt3.apply(wiki_hop['train'][0]))\n",
    "print()\n",
    "print(prompt4.apply(wiki_hop['train'][0]))\n",
    "print()\n",
    "print(prompt5.apply(wiki_hop['train'][0]))\n",
    "print()\n",
    "print(prompt6.apply(wiki_hop['train'][0]))\n",
    "print()\n",
    "print(prompt7.apply(wiki_hop['train'][0]))\n",
    "print()\n",
    "print(prompt8.apply(wiki_hop['train'][0]))\n",
    "print()\n",
    "print(prompt9.apply(wiki_hop['train'][0]))"
   ]
  },
  {
   "cell_type": "code",
   "execution_count": 124,
   "metadata": {},
   "outputs": [
    {
     "name": "stderr",
     "output_type": "stream",
     "text": [
      "WARNING:datasets.builder:Using custom data configuration default-0ca646da0a275282\n"
     ]
    },
    {
     "name": "stdout",
     "output_type": "stream",
     "text": [
      "Downloading and preparing dataset csv/default (download: Unknown size, generated: Unknown size, post-processed: Unknown size, total: Unknown size) to /home/joel_jang/.cache/huggingface/datasets/csv/default-0ca646da0a275282/0.0.0/2dc6629a9ff6b5697d82c25b73731dd440507a69cbce8b425db50b751e8fcfd0...\n"
     ]
    },
    {
     "data": {
      "application/vnd.jupyter.widget-view+json": {
       "model_id": "c2382e93d8d149479b20b77ad59b2c94",
       "version_major": 2,
       "version_minor": 0
      },
      "text/plain": [
       "HBox(children=(FloatProgress(value=1.0, bar_style='info', layout=Layout(width='20px'), max=1.0), HTML(value=''…"
      ]
     },
     "metadata": {},
     "output_type": "display_data"
    },
    {
     "name": "stderr",
     "output_type": "stream",
     "text": [
      "/home/joel_jang/miniconda3/envs/RoE/lib/python3.8/site-packages/datasets/packaged_modules/csv/csv.py:92: FutureWarning: The error_bad_lines argument has been deprecated and will be removed in a future version. Use on_bad_lines in the future.\n",
      "\n",
      "\n",
      "  csv_file_reader = pd.read_csv(\n",
      "/home/joel_jang/miniconda3/envs/RoE/lib/python3.8/site-packages/datasets/packaged_modules/csv/csv.py:92: FutureWarning: The warn_bad_lines argument has been deprecated and will be removed in a future version. Use on_bad_lines in the future.\n",
      "\n",
      "\n",
      "  csv_file_reader = pd.read_csv(\n"
     ]
    },
    {
     "name": "stdout",
     "output_type": "stream",
     "text": [
      "Dataset csv downloaded and prepared to /home/joel_jang/.cache/huggingface/datasets/csv/default-0ca646da0a275282/0.0.0/2dc6629a9ff6b5697d82c25b73731dd440507a69cbce8b425db50b751e8fcfd0. Subsequent calls will reuse this data.\n"
     ]
    },
    {
     "name": "stderr",
     "output_type": "stream",
     "text": [
      "WARNING:datasets.builder:Using custom data configuration default-84162e5ad4aae3aa\n"
     ]
    },
    {
     "name": "stdout",
     "output_type": "stream",
     "text": [
      "Downloading and preparing dataset csv/default (download: Unknown size, generated: Unknown size, post-processed: Unknown size, total: Unknown size) to /home/joel_jang/.cache/huggingface/datasets/csv/default-84162e5ad4aae3aa/0.0.0/2dc6629a9ff6b5697d82c25b73731dd440507a69cbce8b425db50b751e8fcfd0...\n"
     ]
    },
    {
     "data": {
      "application/vnd.jupyter.widget-view+json": {
       "model_id": "b0887aaa30614d038de62960457fa650",
       "version_major": 2,
       "version_minor": 0
      },
      "text/plain": [
       "HBox(children=(FloatProgress(value=1.0, bar_style='info', layout=Layout(width='20px'), max=1.0), HTML(value=''…"
      ]
     },
     "metadata": {},
     "output_type": "display_data"
    },
    {
     "name": "stderr",
     "output_type": "stream",
     "text": [
      "/home/joel_jang/miniconda3/envs/RoE/lib/python3.8/site-packages/datasets/packaged_modules/csv/csv.py:92: FutureWarning: The error_bad_lines argument has been deprecated and will be removed in a future version. Use on_bad_lines in the future.\n",
      "\n",
      "\n",
      "  csv_file_reader = pd.read_csv(\n",
      "/home/joel_jang/miniconda3/envs/RoE/lib/python3.8/site-packages/datasets/packaged_modules/csv/csv.py:92: FutureWarning: The warn_bad_lines argument has been deprecated and will be removed in a future version. Use on_bad_lines in the future.\n",
      "\n",
      "\n",
      "  csv_file_reader = pd.read_csv(\n"
     ]
    },
    {
     "name": "stdout",
     "output_type": "stream",
     "text": [
      "Dataset csv downloaded and prepared to /home/joel_jang/.cache/huggingface/datasets/csv/default-84162e5ad4aae3aa/0.0.0/2dc6629a9ff6b5697d82c25b73731dd440507a69cbce8b425db50b751e8fcfd0. Subsequent calls will reuse this data.\n",
      "DatasetDict({\n",
      "    train: Dataset({\n",
      "        features: ['label', 'title', 'content'],\n",
      "        num_rows: 20000\n",
      "    })\n",
      "    validation: Dataset({\n",
      "        features: ['label', 'title', 'content'],\n",
      "        num_rows: 300\n",
      "    })\n",
      "})\n",
      "\n",
      "['Pick one category for the following text. The options are - company, educational institution, artist, athlete, office holder, mean of transportation, building, natural place, village, animal, plant, album, film or written work. E. D. Abbott Ltd -  Abbott of Farnham E D Abbott Limited was a British coachbuilding business based in Farnham Surrey trading under that name from 1929. A major part of their output was under sub-contract to motor vehicle manufacturers. Their business closed in 1972.', 'Educational Institution']\n",
      "\n",
      "{'label': 1, 'title': 'E. D. Abbott Ltd', 'content': ' Abbott of Farnham E D Abbott Limited was a British coachbuilding business based in Farnham Surrey trading under that name from 1929. A major part of their output was under sub-contract to motor vehicle manufacturers. Their business closed in 1972.'}\n",
      "\n",
      "[\"Pick one category for the following text. The options are - company, educational institution, artist, athlete, office holder, mean of transportation, building, natural place, village, animal, plant, album, film or written work. TY KU -  TY KU /taɪkuː/ is an American alcoholic beverage company that specializes in sake and other spirits. The privately-held company was founded in 2004 and is headquartered in New York City New York. While based in New York TY KU's beverages are made in Japan through a joint venture with two sake breweries. Since 2011 TY KU's growth has extended its products into all 50 states.\", 'Educational Institution']\n",
      "\n",
      "{'label': 1, 'title': 'TY KU', 'content': \" TY KU /taɪkuː/ is an American alcoholic beverage company that specializes in sake and other spirits. The privately-held company was founded in 2004 and is headquartered in New York City New York. While based in New York TY KU's beverages are made in Japan through a joint venture with two sake breweries. Since 2011 TY KU's growth has extended its products into all 50 states.\"}\n"
     ]
    }
   ],
   "source": [
    "train_data_files = {\"train\":\"./data/dbpedia_csv/train.csv\"}\n",
    "eval_data_files = {\"validation\":\"./data/dbpedia_csv/test.csv\"}\n",
    "\n",
    "dbpedia_train = load_dataset(\"csv\",data_files=train_data_files, script_version=\"master\",names=['label','title','content'])\n",
    "dbpedia_eval = load_dataset(\"csv\",data_files=eval_data_files, script_version=\"master\",names=['label','title','content'])\n",
    "dbpedia = DatasetDict()\n",
    "dbpedia['train'] = dbpedia_train['train'].select([i for i in range(0,20000)])\n",
    "dbpedia['validation'] = dbpedia_eval['validation'].select([i for i in range(0,300)])\n",
    "prompt = DatasetTemplates('dbpedia_14')['pick_one_category_for_the_following_text']\n",
    "print(dbpedia)\n",
    "print()\n",
    "print(prompt.apply(dbpedia['train'][0]))\n",
    "print()\n",
    "print(dbpedia['train'][0])\n",
    "print()\n",
    "print(prompt.apply(dbpedia['validation'][0]))\n",
    "print()\n",
    "print(dbpedia['validation'][0])"
   ]
  },
  {
   "cell_type": "code",
   "execution_count": 145,
   "metadata": {},
   "outputs": [
    {
     "name": "stderr",
     "output_type": "stream",
     "text": [
      "WARNING:datasets.builder:Using custom data configuration default\n",
      "WARNING:datasets.builder:Reusing dataset trec (/home/joel_jang/.cache/huggingface/datasets/trec/default/1.1.0/751da1ab101b8d297a3d6e9c79ee9b0173ff94c4497b75677b59b61d5467a9b9)\n"
     ]
    },
    {
     "name": "stdout",
     "output_type": "stream",
     "text": [
      "DatasetDict({\n",
      "    train: Dataset({\n",
      "        features: ['label_coarse', 'label_fine', 'text'],\n",
      "        num_rows: 5452\n",
      "    })\n",
      "    validation: Dataset({\n",
      "        features: ['label_coarse', 'label_fine', 'text'],\n",
      "        num_rows: 300\n",
      "    })\n",
      "})\n",
      "['Is this question asking for definition, description, manner of action, reason?\\nHow did serfdom develop in and then leave Russia ?', 'manner of action']\n"
     ]
    }
   ],
   "source": [
    "trec = load_dataset('trec')\n",
    "trec_train = trec['train']\n",
    "trec_validation = trec['test'].select([i for i in range(0,300)])\n",
    "trec_train = trec_train.rename_column('label-coarse','label_coarse')\n",
    "trec_train = trec_train.rename_column('label-fine','label_fine')\n",
    "trec_validation = trec_validation.rename_column('label-coarse','label_coarse')\n",
    "trec_validation = trec_validation.rename_column('label-fine','label_fine')\n",
    "trec = DatasetDict()\n",
    "trec['train'] = trec_train\n",
    "trec['validation'] = trec_validation\n",
    "prompt = DatasetTemplates('trec')['fine_grained_DESC']\n",
    "print(trec)\n",
    "for item in trec['train']:\n",
    "    x = prompt.apply(item)\n",
    "    if x[0] != '':\n",
    "        print(x)\n",
    "        break"
   ]
  },
  {
   "cell_type": "code",
   "execution_count": 134,
   "metadata": {},
   "outputs": [
    {
     "name": "stderr",
     "output_type": "stream",
     "text": [
      "WARNING:datasets.builder:Using custom data configuration default\n",
      "WARNING:datasets.builder:Reusing dataset gigaword (/home/joel_jang/.cache/huggingface/datasets/gigaword/default/1.2.0/ea83a8b819190acac5f2dae011fad51dccf269a0604ec5dd24795b64efb424b6)\n"
     ]
    },
    {
     "name": "stdout",
     "output_type": "stream",
     "text": [
      "DatasetDict({\n",
      "    train: Dataset({\n",
      "        features: ['document', 'summary'],\n",
      "        num_rows: 20000\n",
      "    })\n",
      "    validation: Dataset({\n",
      "        features: ['document', 'summary'],\n",
      "        num_rows: 300\n",
      "    })\n",
      "})\n",
      "{'document': \"australia 's current account deficit shrunk by a record #.## billion dollars -lrb- #.## billion us -rrb- in the june quarter due to soaring commodity prices , figures released monday showed .\", 'summary': 'australian current account deficit narrows sharply'}\n",
      "{'document': 'five-time world champion michelle kwan withdrew from the #### us figure skating championships on wednesday , but will petition us skating officials for the chance to compete at the #### turin olympics .', 'summary': \"injury leaves kwan 's olympic hopes in limbo\"}\n",
      "[\"australia 's current account deficit shrunk by a record #.## billion dollars -lrb- #.## billion us -rrb- in the june quarter due to soaring commodity prices , figures released monday showed .\\n\\n===\\n\\nGenerate a title for this article:\", 'australian current account deficit narrows sharply']\n",
      "['five-time world champion michelle kwan withdrew from the #### us figure skating championships on wednesday , but will petition us skating officials for the chance to compete at the #### turin olympics .\\n\\n===\\n\\nGenerate a title for this article:', \"injury leaves kwan 's olympic hopes in limbo\"]\n"
     ]
    }
   ],
   "source": [
    "gigaword = load_dataset('gigaword')\n",
    "gigaword_train = gigaword['train'].select([i for i in range(0,20000)])\n",
    "gigaword_eval = gigaword['validation'].select([i for i in range(0,300)])\n",
    "gigaword = DatasetDict()\n",
    "gigaword['train'] = gigaword_train\n",
    "gigaword['validation'] = gigaword_eval\n",
    "\n",
    "prompt = DatasetTemplates('gigaword')['generate_summary_for_this']\n",
    "print(gigaword)\n",
    "print(gigaword['train'][0])\n",
    "print(gigaword['validation'][0])\n",
    "print(prompt.apply(gigaword['train'][0]))\n",
    "print(prompt.apply(gigaword['validation'][0]))"
   ]
  },
  {
   "cell_type": "code",
   "execution_count": 90,
   "metadata": {},
   "outputs": [
    {
     "name": "stderr",
     "output_type": "stream",
     "text": [
      "Reusing dataset cos_e (/home/joel_jang/.cache/huggingface/datasets/cos_e/v1.11/1.11.0/e8dc57a5b321a2a97063efb8d316d6d8a0d9a2d3a392dafc913e55bed42736d2)\n"
     ]
    },
    {
     "name": "stdout",
     "output_type": "stream",
     "text": [
      "Dataset({\n",
      "    features: ['id', 'question', 'choices', 'answer', 'abstractive_explanation', 'extractive_explanation'],\n",
      "    num_rows: 9741\n",
      "})\n"
     ]
    }
   ],
   "source": [
    "x = load_dataset('cos_e','v1.11',split='train')\n",
    "print(x)"
   ]
  },
  {
   "cell_type": "code",
   "execution_count": null,
   "metadata": {},
   "outputs": [],
   "source": [
    "from datasets import load_dataset\n",
    "wiki_auto = load_dataset(\"json\",data_files=\"./data/cT0/training_files/sequential/train.wiki_auto.continual1000.json\")\n",
    "wiki_auto['training'] = wiki_auto['translation']\n",
    "print(wiki_auto)"
   ]
  },
  {
   "cell_type": "code",
   "execution_count": null,
   "metadata": {},
   "outputs": [],
   "source": []
  }
 ],
 "metadata": {
  "kernelspec": {
   "display_name": "Python 3.8.13 ('RoE': conda)",
   "language": "python",
   "name": "python3"
  },
  "language_info": {
   "codemirror_mode": {
    "name": "ipython",
    "version": 3
   },
   "file_extension": ".py",
   "mimetype": "text/x-python",
   "name": "python",
   "nbconvert_exporter": "python",
   "pygments_lexer": "ipython3",
   "version": "3.8.13"
  },
  "orig_nbformat": 4,
  "vscode": {
   "interpreter": {
    "hash": "75ef641d7212823f7d06bad9f0560d9d6992ac1bf3ac25b9d30b7c3dc223aa68"
   }
  }
 },
 "nbformat": 4,
 "nbformat_minor": 2
}
