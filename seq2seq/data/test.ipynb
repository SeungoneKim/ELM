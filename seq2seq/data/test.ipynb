{
 "cells": [
  {
   "cell_type": "code",
   "execution_count": null,
   "metadata": {},
   "outputs": [
    {
     "ename": "",
     "evalue": "",
     "output_type": "error",
     "traceback": [
      "The kernel died. Error: /anaconda/bin/python: No module named ipykernel_launcher... View Jupyter <a href='command:jupyter.viewOutput'>log</a> for further details."
     ]
    }
   ],
   "source": [
    "from datasets import load_dataset"
   ]
  },
  {
   "cell_type": "code",
   "execution_count": 2,
   "metadata": {},
   "outputs": [
    {
     "name": "stderr",
     "output_type": "stream",
     "text": [
      "Reusing dataset lama (/home/lklab/.cache/huggingface/datasets/lama/trex/1.1.0/430016dd70224564ad385a96e0e4a3f88aeb5beaf4e34a8cf65b390fbc83aed7)\n"
     ]
    }
   ],
   "source": [
    "x= load_dataset('lama','trex', split='train', script_version=\"master\")"
   ]
  },
  {
   "cell_type": "code",
   "execution_count": 3,
   "metadata": {},
   "outputs": [
    {
     "name": "stdout",
     "output_type": "stream",
     "text": [
      "Dataset({\n",
      "    features: ['uuid', 'obj_uri', 'obj_label', 'sub_uri', 'sub_label', 'predicate_id', 'sub_surface', 'obj_surface', 'masked_sentence', 'template', 'template_negated', 'label', 'description', 'type'],\n",
      "    num_rows: 1304391\n",
      "})\n"
     ]
    }
   ],
   "source": [
    "print(x)"
   ]
  },
  {
   "cell_type": "code",
   "execution_count": 4,
   "metadata": {},
   "outputs": [],
   "source": [
    "import transformers\n",
    "from transformers import AutoTokenizer"
   ]
  },
  {
   "cell_type": "code",
   "execution_count": 5,
   "metadata": {},
   "outputs": [
    {
     "name": "stdout",
     "output_type": "stream",
     "text": [
      "{'input_ids': [32099, 1], 'attention_mask': [1, 1]}\n",
      "[\n",
      "MAS\n",
      "K\n",
      "]\n",
      "</s>\n"
     ]
    }
   ],
   "source": [
    "z = AutoTokenizer.from_pretrained('t5-large')\n",
    "\n",
    "print(z('<extra_id_0>'))\n",
    "print(z.decode(784))\n",
    "print(z.decode(23010))\n",
    "print(z.decode(439))\n",
    "print(z.decode(908))\n",
    "print(z.decode(1))"
   ]
  },
  {
   "cell_type": "code",
   "execution_count": 10,
   "metadata": {},
   "outputs": [
    {
     "name": "stderr",
     "output_type": "stream",
     "text": [
      "Using custom data configuration default-62ee2af5262a07be\n",
      "Reusing dataset csv (/home/lklab/.cache/huggingface/datasets/csv/default-62ee2af5262a07be/0.0.0/2dc6629a9ff6b5697d82c25b73731dd440507a69cbce8b425db50b751e8fcfd0)\n"
     ]
    }
   ],
   "source": [
    "xx = load_dataset(\"csv\",data_files={\"eval\":\"/home/lklab/RoE/prompts/attempt/seq2seq/data/lama_filter.csv\"},script_version=\"master\")"
   ]
  },
  {
   "cell_type": "code",
   "execution_count": 11,
   "metadata": {},
   "outputs": [
    {
     "name": "stdout",
     "output_type": "stream",
     "text": [
      "DatasetDict({\n",
      "    eval: Dataset({\n",
      "        features: ['id', 'input', 'output'],\n",
      "        num_rows: 18523\n",
      "    })\n",
      "})\n"
     ]
    }
   ],
   "source": [
    "print(xx)"
   ]
  },
  {
   "cell_type": "code",
   "execution_count": 13,
   "metadata": {},
   "outputs": [
    {
     "name": "stdout",
     "output_type": "stream",
     "text": [
      "{'id': 0, 'input': 'The headquarter of Canada West Foundation is in <extra_id_0> .', 'output': 'Calgary'}\n"
     ]
    }
   ],
   "source": [
    "print(xx['eval'][0])"
   ]
  },
  {
   "cell_type": "code",
   "execution_count": null,
   "metadata": {},
   "outputs": [],
   "source": [
    "x = [{'a':[1,2,3],'b':[2,4,6],'c':[3,6,9]},{'a':[2,3,4],'b':[3,5,7],'c':[4,7,10]},{'a':[3,4,5],'b':[4,5,6],'c':[65,54,34]}]"
   ]
  },
  {
   "cell_type": "code",
   "execution_count": 1,
   "metadata": {},
   "outputs": [
    {
     "ename": "FileNotFoundError",
     "evalue": "Couldn't find remote file with version master at https://raw.githubusercontent.com/huggingface/datasets/master/datasets/superglue-rte/superglue-rte.py. Please provide a valid version and a valid dataset name",
     "output_type": "error",
     "traceback": [
      "\u001b[0;31m---------------------------------------------------------------------------\u001b[0m",
      "\u001b[0;31mFileNotFoundError\u001b[0m                         Traceback (most recent call last)",
      "File \u001b[0;32m~/miniconda3/envs/RoE/lib/python3.8/site-packages/datasets/load.py:323\u001b[0m, in \u001b[0;36mprepare_module\u001b[0;34m(path, script_version, download_config, download_mode, dataset, force_local_path, dynamic_modules_path, return_resolved_file_path, **download_kwargs)\u001b[0m\n\u001b[1;32m    322\u001b[0m \u001b[39mtry\u001b[39;00m:\n\u001b[0;32m--> 323\u001b[0m     local_path \u001b[39m=\u001b[39m cached_path(file_path, download_config\u001b[39m=\u001b[39;49mdownload_config)\n\u001b[1;32m    324\u001b[0m \u001b[39mexcept\u001b[39;00m \u001b[39mFileNotFoundError\u001b[39;00m:\n",
      "File \u001b[0;32m~/miniconda3/envs/RoE/lib/python3.8/site-packages/datasets/utils/file_utils.py:281\u001b[0m, in \u001b[0;36mcached_path\u001b[0;34m(url_or_filename, download_config, **download_kwargs)\u001b[0m\n\u001b[1;32m    279\u001b[0m \u001b[39mif\u001b[39;00m is_remote_url(url_or_filename):\n\u001b[1;32m    280\u001b[0m     \u001b[39m# URL, so get it from the cache (downloading if necessary)\u001b[39;00m\n\u001b[0;32m--> 281\u001b[0m     output_path \u001b[39m=\u001b[39m get_from_cache(\n\u001b[1;32m    282\u001b[0m         url_or_filename,\n\u001b[1;32m    283\u001b[0m         cache_dir\u001b[39m=\u001b[39;49mcache_dir,\n\u001b[1;32m    284\u001b[0m         force_download\u001b[39m=\u001b[39;49mdownload_config\u001b[39m.\u001b[39;49mforce_download,\n\u001b[1;32m    285\u001b[0m         proxies\u001b[39m=\u001b[39;49mdownload_config\u001b[39m.\u001b[39;49mproxies,\n\u001b[1;32m    286\u001b[0m         resume_download\u001b[39m=\u001b[39;49mdownload_config\u001b[39m.\u001b[39;49mresume_download,\n\u001b[1;32m    287\u001b[0m         user_agent\u001b[39m=\u001b[39;49mdownload_config\u001b[39m.\u001b[39;49muser_agent,\n\u001b[1;32m    288\u001b[0m         local_files_only\u001b[39m=\u001b[39;49mdownload_config\u001b[39m.\u001b[39;49mlocal_files_only,\n\u001b[1;32m    289\u001b[0m         use_etag\u001b[39m=\u001b[39;49mdownload_config\u001b[39m.\u001b[39;49muse_etag,\n\u001b[1;32m    290\u001b[0m         max_retries\u001b[39m=\u001b[39;49mdownload_config\u001b[39m.\u001b[39;49mmax_retries,\n\u001b[1;32m    291\u001b[0m         use_auth_token\u001b[39m=\u001b[39;49mdownload_config\u001b[39m.\u001b[39;49muse_auth_token,\n\u001b[1;32m    292\u001b[0m     )\n\u001b[1;32m    293\u001b[0m \u001b[39melif\u001b[39;00m os\u001b[39m.\u001b[39mpath\u001b[39m.\u001b[39mexists(url_or_filename):\n\u001b[1;32m    294\u001b[0m     \u001b[39m# File, and it exists.\u001b[39;00m\n",
      "File \u001b[0;32m~/miniconda3/envs/RoE/lib/python3.8/site-packages/datasets/utils/file_utils.py:621\u001b[0m, in \u001b[0;36mget_from_cache\u001b[0;34m(url, cache_dir, force_download, proxies, etag_timeout, resume_download, user_agent, local_files_only, use_etag, max_retries, use_auth_token)\u001b[0m\n\u001b[1;32m    620\u001b[0m \u001b[39melif\u001b[39;00m response \u001b[39mis\u001b[39;00m \u001b[39mnot\u001b[39;00m \u001b[39mNone\u001b[39;00m \u001b[39mand\u001b[39;00m response\u001b[39m.\u001b[39mstatus_code \u001b[39m==\u001b[39m \u001b[39m404\u001b[39m:\n\u001b[0;32m--> 621\u001b[0m     \u001b[39mraise\u001b[39;00m \u001b[39mFileNotFoundError\u001b[39;00m(\u001b[39m\"\u001b[39m\u001b[39mCouldn\u001b[39m\u001b[39m'\u001b[39m\u001b[39mt find file at \u001b[39m\u001b[39m{}\u001b[39;00m\u001b[39m\"\u001b[39m\u001b[39m.\u001b[39mformat(url))\n\u001b[1;32m    622\u001b[0m _raise_if_offline_mode_is_enabled(\u001b[39mf\u001b[39m\u001b[39m\"\u001b[39m\u001b[39mTried to reach \u001b[39m\u001b[39m{\u001b[39;00murl\u001b[39m}\u001b[39;00m\u001b[39m\"\u001b[39m)\n",
      "\u001b[0;31mFileNotFoundError\u001b[0m: Couldn't find file at https://raw.githubusercontent.com/huggingface/datasets/master/datasets/superglue-rte/superglue-rte.py",
      "\nDuring handling of the above exception, another exception occurred:\n",
      "\u001b[0;31mFileNotFoundError\u001b[0m                         Traceback (most recent call last)",
      "\u001b[1;32m/home/joel_jang/seungone/RoE/seq2seq/data/test.ipynb 셀 10\u001b[0m in \u001b[0;36m<cell line: 3>\u001b[0;34m()\u001b[0m\n\u001b[1;32m      <a href='vscode-notebook-cell://ssh-remote%2B7b22686f73744e616d65223a226763705f613130305f4652227d/home/joel_jang/seungone/RoE/seq2seq/data/test.ipynb#X12sdnNjb2RlLXJlbW90ZQ%3D%3D?line=0'>1</a>\u001b[0m \u001b[39mfrom\u001b[39;00m \u001b[39mdatasets\u001b[39;00m \u001b[39mimport\u001b[39;00m load_dataset\n\u001b[0;32m----> <a href='vscode-notebook-cell://ssh-remote%2B7b22686f73744e616d65223a226763705f613130305f4652227d/home/joel_jang/seungone/RoE/seq2seq/data/test.ipynb#X12sdnNjb2RlLXJlbW90ZQ%3D%3D?line=2'>3</a>\u001b[0m x \u001b[39m=\u001b[39m load_dataset(\u001b[39m'\u001b[39;49m\u001b[39msuperglue-rte\u001b[39;49m\u001b[39m'\u001b[39;49m,split\u001b[39m=\u001b[39;49m\u001b[39m'\u001b[39;49m\u001b[39mtest\u001b[39;49m\u001b[39m'\u001b[39;49m,script_version\u001b[39m=\u001b[39;49m\u001b[39m\"\u001b[39;49m\u001b[39mmaster\u001b[39;49m\u001b[39m\"\u001b[39;49m)\n",
      "File \u001b[0;32m~/miniconda3/envs/RoE/lib/python3.8/site-packages/datasets/load.py:711\u001b[0m, in \u001b[0;36mload_dataset\u001b[0;34m(path, name, data_dir, data_files, split, cache_dir, features, download_config, download_mode, ignore_verifications, keep_in_memory, save_infos, script_version, use_auth_token, **config_kwargs)\u001b[0m\n\u001b[1;32m    709\u001b[0m ignore_verifications \u001b[39m=\u001b[39m ignore_verifications \u001b[39mor\u001b[39;00m save_infos\n\u001b[1;32m    710\u001b[0m \u001b[39m# Download/copy dataset processing script\u001b[39;00m\n\u001b[0;32m--> 711\u001b[0m module_path, \u001b[39mhash\u001b[39m, resolved_file_path \u001b[39m=\u001b[39m prepare_module(\n\u001b[1;32m    712\u001b[0m     path,\n\u001b[1;32m    713\u001b[0m     script_version\u001b[39m=\u001b[39;49mscript_version,\n\u001b[1;32m    714\u001b[0m     download_config\u001b[39m=\u001b[39;49mdownload_config,\n\u001b[1;32m    715\u001b[0m     download_mode\u001b[39m=\u001b[39;49mdownload_mode,\n\u001b[1;32m    716\u001b[0m     dataset\u001b[39m=\u001b[39;49m\u001b[39mTrue\u001b[39;49;00m,\n\u001b[1;32m    717\u001b[0m     return_resolved_file_path\u001b[39m=\u001b[39;49m\u001b[39mTrue\u001b[39;49;00m,\n\u001b[1;32m    718\u001b[0m     use_auth_token\u001b[39m=\u001b[39;49muse_auth_token,\n\u001b[1;32m    719\u001b[0m )\n\u001b[1;32m    720\u001b[0m \u001b[39m# Set the base path for downloads as the parent of the script location\u001b[39;00m\n\u001b[1;32m    721\u001b[0m \u001b[39mif\u001b[39;00m resolved_file_path \u001b[39mis\u001b[39;00m \u001b[39mnot\u001b[39;00m \u001b[39mNone\u001b[39;00m:\n",
      "File \u001b[0;32m~/miniconda3/envs/RoE/lib/python3.8/site-packages/datasets/load.py:326\u001b[0m, in \u001b[0;36mprepare_module\u001b[0;34m(path, script_version, download_config, download_mode, dataset, force_local_path, dynamic_modules_path, return_resolved_file_path, **download_kwargs)\u001b[0m\n\u001b[1;32m    324\u001b[0m \u001b[39mexcept\u001b[39;00m \u001b[39mFileNotFoundError\u001b[39;00m:\n\u001b[1;32m    325\u001b[0m     \u001b[39mif\u001b[39;00m script_version \u001b[39mis\u001b[39;00m \u001b[39mnot\u001b[39;00m \u001b[39mNone\u001b[39;00m:\n\u001b[0;32m--> 326\u001b[0m         \u001b[39mraise\u001b[39;00m \u001b[39mFileNotFoundError\u001b[39;00m(\n\u001b[1;32m    327\u001b[0m             \u001b[39m\"\u001b[39m\u001b[39mCouldn\u001b[39m\u001b[39m'\u001b[39m\u001b[39mt find remote file with version \u001b[39m\u001b[39m{}\u001b[39;00m\u001b[39m at \u001b[39m\u001b[39m{}\u001b[39;00m\u001b[39m. Please provide a valid version and a valid \u001b[39m\u001b[39m{}\u001b[39;00m\u001b[39m name\u001b[39m\u001b[39m\"\u001b[39m\u001b[39m.\u001b[39mformat(\n\u001b[1;32m    328\u001b[0m                 script_version, file_path, \u001b[39m\"\u001b[39m\u001b[39mdataset\u001b[39m\u001b[39m\"\u001b[39m \u001b[39mif\u001b[39;00m dataset \u001b[39melse\u001b[39;00m \u001b[39m\"\u001b[39m\u001b[39mmetric\u001b[39m\u001b[39m\"\u001b[39m\n\u001b[1;32m    329\u001b[0m             )\n\u001b[1;32m    330\u001b[0m         )\n\u001b[1;32m    331\u001b[0m     \u001b[39melse\u001b[39;00m:\n\u001b[1;32m    332\u001b[0m         github_file_path \u001b[39m=\u001b[39m file_path\n",
      "\u001b[0;31mFileNotFoundError\u001b[0m: Couldn't find remote file with version master at https://raw.githubusercontent.com/huggingface/datasets/master/datasets/superglue-rte/superglue-rte.py. Please provide a valid version and a valid dataset name"
     ]
    }
   ],
   "source": [
    "from datasets import load_dataset\n",
    "\n",
    "x = load_dataset('superglue-rte',split='test',script_version=\"master\")"
   ]
  },
  {
   "cell_type": "code",
   "execution_count": null,
   "metadata": {},
   "outputs": [],
   "source": []
  }
 ],
 "metadata": {
  "kernelspec": {
   "display_name": "Python 3.8.13 ('RoE': conda)",
   "language": "python",
   "name": "python3"
  },
  "language_info": {
   "codemirror_mode": {
    "name": "ipython",
    "version": 3
   },
   "file_extension": ".py",
   "mimetype": "text/x-python",
   "name": "python",
   "nbconvert_exporter": "python",
   "pygments_lexer": "ipython3",
   "version": "3.8.13"
  },
  "orig_nbformat": 4,
  "vscode": {
   "interpreter": {
    "hash": "75ef641d7212823f7d06bad9f0560d9d6992ac1bf3ac25b9d30b7c3dc223aa68"
   }
  }
 },
 "nbformat": 4,
 "nbformat_minor": 2
}
